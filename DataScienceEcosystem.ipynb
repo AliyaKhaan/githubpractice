{
 "cells": [
  {
   "cell_type": "markdown",
   "id": "14216e12-c2df-47cd-ac33-85b591784bae",
   "metadata": {},
   "source": [
    "# Data Science Tools and Ecosystem\n",
    "\n",
    "## In this notebook, Data Science Tools and Ecosystem are summarized.\n",
    "\n",
    "\n",
    "                                                                                                 "
   ]
  },
  {
   "cell_type": "markdown",
   "id": "672dd78f-ba52-4f77-9144-e3dd71c396d9",
   "metadata": {},
   "source": [
    "### Some of the popular languages that Data Scientists use are:\n",
    "\n",
    "<OL>\n",
    "    <Li> Python </Li>\n",
    "    <Li>R</Li>\n",
    "    <Li>SQL</Li>\n",
    "    </OL>\n",
    "    "
   ]
  },
  {
   "cell_type": "markdown",
   "id": "105bb921-0906-48cd-87d2-363a9638475f",
   "metadata": {},
   "source": [
    "### Some of the commonly used libraries used by Data Scientists include:\n",
    "<OL>\n",
    "    <LI>Numpy</LI>\n",
    "    <LI>Panda</LI>\n",
    "    <LI>SilverLit</LI>\n",
    "    <LI>TensorFlow</LI>\n",
    "    <LI>SciPy</LI>\n",
    "</OL>\n",
    "    \n",
    "        \n"
   ]
  },
  {
   "cell_type": "code",
   "execution_count": 6,
   "id": "b3e56dd7-652e-4ef1-93a3-5e7ecf6aab67",
   "metadata": {},
   "outputs": [
    {
     "ename": "SyntaxError",
     "evalue": "invalid syntax (1421630266.py, line 2)",
     "output_type": "error",
     "traceback": [
      "\u001b[0;36m  File \u001b[0;32m\"/tmp/ipykernel_364/1421630266.py\"\u001b[0;36m, line \u001b[0;32m2\u001b[0m\n\u001b[0;31m    |Data Science Tools|\u001b[0m\n\u001b[0m    ^\u001b[0m\n\u001b[0;31mSyntaxError\u001b[0m\u001b[0;31m:\u001b[0m invalid syntax\n"
     ]
    }
   ],
   "source": [
    "### Description of Data Science Tools.\n",
    "|Data Science Tools|\n",
    "|------------------| \n",
    "|Jupyter| \n",
    "|IBM Watson Studio| \n",
    "|Anaconda | "
   ]
  },
  {
   "cell_type": "markdown",
   "id": "54806d45-6177-414f-a17d-bc0af33f2563",
   "metadata": {},
   "source": [
    "Below are a few examples of evaluating arithmetic expressions in Python.\n"
   ]
  },
  {
   "cell_type": "code",
   "execution_count": 7,
   "id": "7eeaeb30-e850-4cc5-a6ad-5cfb448be79c",
   "metadata": {},
   "outputs": [
    {
     "name": "stdout",
     "output_type": "stream",
     "text": [
      "4\n"
     ]
    }
   ],
   "source": [
    "print(2+2)"
   ]
  },
  {
   "cell_type": "code",
   "execution_count": 8,
   "id": "e5c9c7e7-136a-44a0-a2d7-1b7ecf8d6a75",
   "metadata": {},
   "outputs": [
    {
     "name": "stdout",
     "output_type": "stream",
     "text": [
      "141.5\n"
     ]
    }
   ],
   "source": [
    "print(3/2+7/5*100)"
   ]
  },
  {
   "cell_type": "code",
   "execution_count": 9,
   "id": "0f5d6f98-24ab-4e23-adee-af7177ae4749",
   "metadata": {},
   "outputs": [
    {
     "name": "stdout",
     "output_type": "stream",
     "text": [
      "9\n"
     ]
    }
   ],
   "source": [
    "a=4+5\n",
    "print(a)"
   ]
  },
  {
   "cell_type": "markdown",
   "id": "9f29b7b3-5cf7-489a-8bf5-1bb164a7474f",
   "metadata": {},
   "source": [
    "###This a simple arithmetic expression to mutiply then add integers.\n",
    "print((3*4)+5)"
   ]
  },
  {
   "cell_type": "code",
   "execution_count": 10,
   "id": "ead7fdff-8bf2-4c13-b39b-b96bdf2a7bba",
   "metadata": {},
   "outputs": [
    {
     "ename": "SyntaxError",
     "evalue": "unexpected EOF while parsing (1111706154.py, line 2)",
     "output_type": "error",
     "traceback": [
      "\u001b[0;36m  File \u001b[0;32m\"/tmp/ipykernel_364/1111706154.py\"\u001b[0;36m, line \u001b[0;32m2\u001b[0m\n\u001b[0;31m    \u001b[0m\n\u001b[0m    ^\u001b[0m\n\u001b[0;31mSyntaxError\u001b[0m\u001b[0;31m:\u001b[0m unexpected EOF while parsing\n"
     ]
    }
   ],
   "source": [
    "print((3*4)+5\n",
    "    "
   ]
  },
  {
   "cell_type": "code",
   "execution_count": 11,
   "id": "28ed8658-3f37-4d9c-9475-3b176128d1f2",
   "metadata": {},
   "outputs": [
    {
     "name": "stdout",
     "output_type": "stream",
     "text": [
      "17\n"
     ]
    }
   ],
   "source": [
    "print((3*4)+5)\n"
   ]
  },
  {
   "cell_type": "markdown",
   "id": "4dad1b6b-b32a-417e-acbd-300db90f27e5",
   "metadata": {},
   "source": [
    "This will convert 200 minutes to hours by diving by 60\n",
    "\n",
    "\n"
   ]
  },
  {
   "cell_type": "code",
   "execution_count": 12,
   "id": "db66495f-5489-4e0d-b040-e26c16123a0f",
   "metadata": {},
   "outputs": [
    {
     "name": "stdout",
     "output_type": "stream",
     "text": [
      "3.3333333333333335\n"
     ]
    }
   ],
   "source": [
    "c=200/60\n",
    "print(c)"
   ]
  },
  {
   "cell_type": "markdown",
   "id": "95577a90-0bb8-4929-b2d9-91c204bd9ef4",
   "metadata": {},
   "source": [
    "In this notebook, Data Science Tools and Ecosystem are summarized.\n",
    "<b>Objectives:</b>\n",
    "<UL>\n",
    "    <LI>The most popular tools of data science were covered</LI>\n",
    "    <LI>The Most popular programming languages used in data science</LI>\n",
    "    <LI>Hands on experience to used IBM Watson studio, Git Hub and Jupyter</LI>\n",
    "</UL>\n"
   ]
  },
  {
   "cell_type": "code",
   "execution_count": null,
   "id": "07359bc2-1432-4972-b69a-9b2ea4adecd5",
   "metadata": {},
   "outputs": [],
   "source": [
    "## Author\n",
    "##Aliya "
   ]
  }
 ],
 "metadata": {
  "kernelspec": {
   "display_name": "Python",
   "language": "python",
   "name": "conda-env-python-py"
  },
  "language_info": {
   "codemirror_mode": {
    "name": "ipython",
    "version": 3
   },
   "file_extension": ".py",
   "mimetype": "text/x-python",
   "name": "python",
   "nbconvert_exporter": "python",
   "pygments_lexer": "ipython3",
   "version": "3.7.12"
  }
 },
 "nbformat": 4,
 "nbformat_minor": 5
}
